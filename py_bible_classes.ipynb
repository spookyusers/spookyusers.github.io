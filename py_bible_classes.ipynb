{
 "cells": [
  {
   "cell_type": "code",
   "execution_count": 10,
   "id": "37f0ff09-e090-4a98-8974-c696cc256074",
   "metadata": {},
   "outputs": [
    {
     "name": "stdout",
     "output_type": "stream",
     "text": [
      "3.56\n",
      "Kym\n"
     ]
    }
   ],
   "source": [
    "# Python Bible for Beginners, Chapter 6: Python Classes\n",
    "\n",
    "# python class\n",
    "class Student:\n",
    "    # class attributes\n",
    "    GPA = 3.56\n",
    "    name = 'Kym'\n",
    "\n",
    "# creating object\n",
    "student1 = Student\n",
    "\n",
    "# referencing the attributes\n",
    "\n",
    "print(student1.GPA)\n",
    "print(student1.name)"
   ]
  },
  {
   "cell_type": "code",
   "execution_count": 22,
   "id": "b634f833-b670-40bd-b1b5-91d55a7f1271",
   "metadata": {},
   "outputs": [
    {
     "name": "stdout",
     "output_type": "stream",
     "text": [
      "GPA: 3.4\n",
      "Name: Bashir\n",
      "GPA: 3.2\n",
      "Name: Alam\n"
     ]
    }
   ],
   "source": [
    "# python classes with constructors\n",
    "\n",
    "#python class\n",
    "class Student:\n",
    "\n",
    "    #constructor in python class\n",
    "    def __init__(self,gpa,name):\n",
    "        self.gpa = gpa\n",
    "        self.name = name\n",
    "\n",
    "    # method\n",
    "    def student_info(self):\n",
    "        print('GPA:',self.gpa)\n",
    "        print('Name:',self.name)\n",
    "\n",
    "#creating objects\n",
    "student1 = Student(3.4,'Bashir')\n",
    "student2 = Student(3.2,'Alam')\n",
    "\n",
    "student1.student_info()\n",
    "student2.student_info()"
   ]
  },
  {
   "cell_type": "code",
   "execution_count": 25,
   "id": "cef096b0-1391-44e9-84bd-29a0bb790d22",
   "metadata": {},
   "outputs": [
    {
     "name": "stdout",
     "output_type": "stream",
     "text": [
      "GPA before changing: 3.4\n",
      "GPA after changing: 3.56\n"
     ]
    },
    {
     "ename": "AttributeError",
     "evalue": "type object 'Student' has no attribute 'GPA'",
     "output_type": "error",
     "traceback": [
      "\u001b[0;31m---------------------------------------------------------------------------\u001b[0m",
      "\u001b[0;31mAttributeError\u001b[0m                            Traceback (most recent call last)",
      "Cell \u001b[0;32mIn[25], line 22\u001b[0m\n\u001b[1;32m     18\u001b[0m \u001b[38;5;66;03m# deleting an attribute\u001b[39;00m\n\u001b[1;32m     20\u001b[0m \u001b[38;5;28;01mdel\u001b[39;00m student1\u001b[38;5;241m.\u001b[39mGPA\n\u001b[0;32m---> 22\u001b[0m \u001b[38;5;28mprint\u001b[39m(student1\u001b[38;5;241m.\u001b[39mGPA)\n",
      "\u001b[0;31mAttributeError\u001b[0m: type object 'Student' has no attribute 'GPA'"
     ]
    }
   ],
   "source": [
    "# modifying attributes within a class\n",
    "\n",
    "class Student:\n",
    "    GPA = 3.4\n",
    "    name = 'Kym'\n",
    "\n",
    "student1 = Student\n",
    "\n",
    "# printing before changing\n",
    "print('GPA before changing:',student1.GPA)\n",
    "\n",
    "#changing the attribute\n",
    "student1.GPA = 3.56\n",
    "\n",
    "#printing after changing\n",
    "print('GPA after changing:',student1.GPA)\n",
    "\n",
    "# deleting an attribute\n",
    "\n",
    "del student1.GPA\n",
    "\n",
    "print(student1.GPA)\n"
   ]
  },
  {
   "cell_type": "code",
   "execution_count": null,
   "id": "236b7e8c-9f63-4277-80c9-976bb6b6d331",
   "metadata": {},
   "outputs": [],
   "source": []
  }
 ],
 "metadata": {
  "kernelspec": {
   "display_name": "Python 3 (ipykernel)",
   "language": "python",
   "name": "python3"
  },
  "language_info": {
   "codemirror_mode": {
    "name": "ipython",
    "version": 3
   },
   "file_extension": ".py",
   "mimetype": "text/x-python",
   "name": "python",
   "nbconvert_exporter": "python",
   "pygments_lexer": "ipython3",
   "version": "3.11.5"
  }
 },
 "nbformat": 4,
 "nbformat_minor": 5
}
