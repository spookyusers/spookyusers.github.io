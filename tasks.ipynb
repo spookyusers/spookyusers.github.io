{
 "cells": [
  {
   "cell_type": "code",
   "execution_count": 39,
   "id": "66bf12a1-0325-4be9-9b84-c929109b0fdf",
   "metadata": {},
   "outputs": [],
   "source": [
    "# Tasks\n",
    "# Spookyusers February 2 2024\n",
    "\n",
    "# Testing functions\n",
    "\n",
    "\n",
    "class Task:\n",
    "    def __init__(self, name, status):#, subject, note, due, links = []):\n",
    "        self.name = name\n",
    "        self.status = status\n",
    "        #self.subject = subject\n",
    "        #self.note = note\n",
    "        #self.due = due\n",
    "        #self.links = links\n",
    "    def task_info(self):\n",
    "        print(\"Task info:\",self)\n",
    "        \n",
    "      #  print(\"------------\")\n",
    "       # print(\"status:\",status)\n",
    "        #print(\"subject:\",subject)\n",
    "        #print(\"note:\",note)\n",
    "        #print(\"due:\",due)\n",
    "        #print(\"links:\",links)\n",
    "    #def add_link(self):\n",
    "     #   self.add_link()\n",
    "\n",
    "\n",
    "    # use this to create an interactive to-do list.\n",
    "\n",
    "# probably want to include dat/time tracker or autolog date at least\n",
    "\n",
    "#Feb 2 2024\n",
    "\n"
   ]
  },
  {
   "cell_type": "code",
   "execution_count": 42,
   "id": "945ac436-138c-4669-8b7f-7df2668313ac",
   "metadata": {},
   "outputs": [
    {
     "name": "stdout",
     "output_type": "stream",
     "text": [
      "function executed.\n"
     ]
    }
   ],
   "source": [
    "# Testing functions\n",
    "def function():\n",
    "    print('function executed.')\n",
    "function()"
   ]
  },
  {
   "cell_type": "code",
   "execution_count": 36,
   "id": "5b7f7f14-5df1-4135-a025-9f9b295e1b01",
   "metadata": {},
   "outputs": [
    {
     "ename": "NameError",
     "evalue": "name 'name' is not defined",
     "output_type": "error",
     "traceback": [
      "\u001b[0;31m---------------------------------------------------------------------------\u001b[0m",
      "\u001b[0;31mNameError\u001b[0m                                 Traceback (most recent call last)",
      "Cell \u001b[0;32mIn[36], line 1\u001b[0m\n\u001b[0;32m----> 1\u001b[0m info \u001b[38;5;241m=\u001b[39m Task\u001b[38;5;241m.\u001b[39mtask_info(task1)\n",
      "Cell \u001b[0;32mIn[34], line 13\u001b[0m, in \u001b[0;36mTask.task_info\u001b[0;34m(self)\u001b[0m\n\u001b[1;32m     12\u001b[0m \u001b[38;5;28;01mdef\u001b[39;00m \u001b[38;5;21mtask_info\u001b[39m(\u001b[38;5;28mself\u001b[39m):\n\u001b[0;32m---> 13\u001b[0m     \u001b[38;5;28mprint\u001b[39m(\u001b[38;5;124m\"\u001b[39m\u001b[38;5;124mTask info:\u001b[39m\u001b[38;5;124m\"\u001b[39m,name)\n",
      "\u001b[0;31mNameError\u001b[0m: name 'name' is not defined"
     ]
    }
   ],
   "source": [
    "info = Task.task_info(task1)"
   ]
  },
  {
   "cell_type": "code",
   "execution_count": null,
   "id": "68eb061d-c851-4129-a492-41a947cfa8c4",
   "metadata": {},
   "outputs": [],
   "source": []
  }
 ],
 "metadata": {
  "kernelspec": {
   "display_name": "Python 3 (ipykernel)",
   "language": "python",
   "name": "python3"
  },
  "language_info": {
   "codemirror_mode": {
    "name": "ipython",
    "version": 3
   },
   "file_extension": ".py",
   "mimetype": "text/x-python",
   "name": "python",
   "nbconvert_exporter": "python",
   "pygments_lexer": "ipython3",
   "version": "3.11.5"
  }
 },
 "nbformat": 4,
 "nbformat_minor": 5
}
