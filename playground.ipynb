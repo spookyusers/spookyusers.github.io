{
 "cells": [
  {
   "cell_type": "code",
   "execution_count": 1,
   "id": "35a25d2e-6c92-4acf-b243-0a740bf14234",
   "metadata": {},
   "outputs": [
    {
     "name": "stdout",
     "output_type": "stream",
     "text": [
      "hello world\n"
     ]
    }
   ],
   "source": [
    "print('hello world')"
   ]
  },
  {
   "cell_type": "code",
   "execution_count": 3,
   "id": "9f66c81c-6383-4c0c-98cb-edf7feadc4e5",
   "metadata": {},
   "outputs": [
    {
     "name": "stdout",
     "output_type": "stream",
     "text": [
      "Hello, my friends!\n"
     ]
    }
   ],
   "source": [
    "print('Hello, my friends!')"
   ]
  },
  {
   "cell_type": "code",
   "execution_count": 4,
   "id": "d4d737c8-be05-4e46-84fc-4c3b4bfefcfa",
   "metadata": {},
   "outputs": [
    {
     "name": "stdout",
     "output_type": "stream",
     "text": [
      "Hi, my name is Kym. \n",
      "I am37. \n",
      "I am majoring in Physics\n"
     ]
    }
   ],
   "source": [
    "print('Hi, my name is Kym. \\nI am37. \\nI am majoring in Physics')"
   ]
  },
  {
   "cell_type": "code",
   "execution_count": 15,
   "id": "4a08debd-c594-4510-8729-c972c9147fac",
   "metadata": {},
   "outputs": [
    {
     "name": "stdin",
     "output_type": "stream",
     "text": [
      "Please enter your name: Kym\n"
     ]
    },
    {
     "name": "stdout",
     "output_type": "stream",
     "text": [
      "Nice to meet you, Kym\n"
     ]
    },
    {
     "name": "stdin",
     "output_type": "stream",
     "text": [
      "... and your age, please? 37\n"
     ]
    },
    {
     "name": "stdout",
     "output_type": "stream",
     "text": [
      "Thank you, Kym\n"
     ]
    },
    {
     "name": "stdin",
     "output_type": "stream",
     "text": [
      "Just two more questions. First, what's your favorite color? purple\n",
      "Okay. And your favorite season, please: summer\n"
     ]
    },
    {
     "name": "stdout",
     "output_type": "stream",
     "text": [
      "Great! We're all done! To review, your name is Kym . \n",
      "You are 37 years old. \n",
      "You like the color purple . \n",
      "Finally, your favorite season is summer .\n"
     ]
    },
    {
     "name": "stdin",
     "output_type": "stream",
     "text": [
      "What's your favorite number that includes a decimal? 3.15\n"
     ]
    },
    {
     "name": "stdout",
     "output_type": "stream",
     "text": [
      "Okay, cool. Here's your age times your favorite decimal! 116.55\n"
     ]
    }
   ],
   "source": [
    "#ask user for demographic data.\n",
    "\n",
    "name = input('Please enter your name:')\n",
    "print('Nice to meet you,',name)\n",
    "\n",
    "#taking age from user and saving as an integer.\n",
    "age = int(input('... and your age, please?'))\n",
    "print('Thank you,',name)\n",
    "\n",
    "#asking favorite color and season.\n",
    "color = input(\"Just two more questions. First, what's your favorite color?\")\n",
    "season = input(\"Okay. And your favorite season, please:\")\n",
    "\n",
    "#thanking for info and repeating info back to user\n",
    "\n",
    "print(\"Great! We're all done! To review, your name is\",name,\". \\nYou are\",age,\"years old. \\nYou like the color\",color,\". \\nFinally, your favorite season is\",season,\n",
    "      \".\")\n",
    "\n",
    "#saving input as float\n",
    "favdecimal = float(input(\"What's your favorite number that includes a decimal?\"))\n",
    "\n",
    "#print age times the decimal\n",
    "print(\"Okay, cool. Here's your age times your favorite decimal!\",age * favdecimal)"
   ]
  },
  {
   "cell_type": "code",
   "execution_count": 16,
   "id": "2f52e1cb-db4d-4de3-bcf9-f5624f41614b",
   "metadata": {},
   "outputs": [
    {
     "name": "stdout",
     "output_type": "stream",
     "text": [
      "35\n",
      "0.5\n"
     ]
    }
   ],
   "source": [
    "var1 = 30\n",
    "var2 = 5\n",
    "var3 = 5.5\n",
    "\n",
    "print(var1+var2)\n",
    "print(var3-var2)"
   ]
  },
  {
   "cell_type": "code",
   "execution_count": 88,
   "id": "fa5f5b47-9a33-4ea8-9084-5833a50b4689",
   "metadata": {},
   "outputs": [
    {
     "name": "stdin",
     "output_type": "stream",
     "text": [
      "Hey Babe, what age are you? Don't lie or else! 21\n"
     ]
    },
    {
     "name": "stdout",
     "output_type": "stream",
     "text": [
      "Liar, liar, pants on fire!\n"
     ]
    }
   ],
   "source": [
    "# asking age and calling out lies!\n",
    "\n",
    "age = int(input(\"Hey Babe, what age are you? Don't lie or else!\"))\n",
    "if age == 35:\n",
    "    print(\"Good job, you told truth!\")\n",
    "else:\n",
    "    print(\"Liar, liar, pants on fire!\")"
   ]
  },
  {
   "cell_type": "code",
   "execution_count": 25,
   "id": "fafdc2cf-d2a8-4d4c-b5c2-c5ac779bf958",
   "metadata": {},
   "outputs": [
    {
     "name": "stdout",
     "output_type": "stream",
     "text": [
      "(34+4j)\n"
     ]
    }
   ],
   "source": [
    "#building complex numbers\n",
    "\n",
    "real = 34\n",
    "imaginary = 4\n",
    "\n",
    "complex_number = complex(real, imaginary)\n",
    "\n",
    "print(complex_number)\n"
   ]
  },
  {
   "cell_type": "code",
   "execution_count": 26,
   "id": "5e343c21-ed88-4db0-a487-6f5e697dc97c",
   "metadata": {},
   "outputs": [
    {
     "name": "stdout",
     "output_type": "stream",
     "text": [
      "Data type of var1 is: <class 'int'>\n",
      "Data type of var2 is: <class 'float'>\n"
     ]
    }
   ],
   "source": [
    "# data types\n",
    "\n",
    "var1 = 10\n",
    "var2 = 3.3\n",
    "\n",
    "print('Data type of var1 is:',type(var1))\n",
    "print('Data type of var2 is:',type(var2))\n"
   ]
  },
  {
   "cell_type": "code",
   "execution_count": 27,
   "id": "0cf6f773-76e2-4556-b8ae-90a44f85edff",
   "metadata": {},
   "outputs": [
    {
     "name": "stdout",
     "output_type": "stream",
     "text": [
      "<class 'complex'>\n"
     ]
    }
   ],
   "source": [
    "print(type(complex_number))"
   ]
  },
  {
   "cell_type": "code",
   "execution_count": 43,
   "id": "4b84040d-b657-43f2-bf8b-6ca7d48887a7",
   "metadata": {},
   "outputs": [
    {
     "name": "stdout",
     "output_type": "stream",
     "text": [
      "[1, 2, 3, 4, 5, 6, 7, 8, 9]\n"
     ]
    }
   ],
   "source": [
    "# Working with lists.\n",
    "\n",
    "list1 = [1,2,3,4,5,6,7,8,9]\n",
    "\n",
    "print(list1)\n"
   ]
  },
  {
   "cell_type": "code",
   "execution_count": 30,
   "id": "ab873e81-c1dc-423a-aa5b-2be8fcd0e991",
   "metadata": {},
   "outputs": [
    {
     "name": "stdout",
     "output_type": "stream",
     "text": [
      "[1, 2, 3, 'a', 'b', 'c', 3.3, 4.4, 5.5]\n"
     ]
    }
   ],
   "source": [
    "# Lists with diff data types.\n",
    "\n",
    "list2 = [1,2,3,'a','b','c',3.3,4.4,5.5]\n",
    "\n",
    "print(list2)"
   ]
  },
  {
   "cell_type": "code",
   "execution_count": 44,
   "id": "11c73dc7-59f3-40ee-8b0e-4e1959f88efd",
   "metadata": {},
   "outputs": [
    {
     "name": "stdout",
     "output_type": "stream",
     "text": [
      "[2, 3, 'A', 'Heather']\n"
     ]
    }
   ],
   "source": [
    "# Appending with lists\n",
    "\n",
    "list3 = []\n",
    "\n",
    "a =2\n",
    "b =3\n",
    "c ='A'\n",
    "d = 'Heather'\n",
    "\n",
    "list3.append(a)\n",
    "list3.append(b)\n",
    "list3.append(c)\n",
    "list3.append(d)\n",
    "\n",
    "print(list3)"
   ]
  },
  {
   "cell_type": "code",
   "execution_count": 45,
   "id": "41e6e864-b00f-40d1-9a42-9339f8af6521",
   "metadata": {},
   "outputs": [
    {
     "name": "stdout",
     "output_type": "stream",
     "text": [
      "[0, 1]\n"
     ]
    }
   ],
   "source": [
    "# Created an empty list here and then used the for loop to add \n",
    "# to the empty list an integer for each element in the range specified.\n",
    "\n",
    "list4 = []\n",
    "\n",
    "for i in range(2):\n",
    "    list4.append(i)\n",
    "\n",
    "print(list4)"
   ]
  },
  {
   "cell_type": "code",
   "execution_count": 37,
   "id": "9ee16fcf-f9ea-418e-9f44-03b33e3cc41d",
   "metadata": {},
   "outputs": [
    {
     "name": "stdout",
     "output_type": "stream",
     "text": [
      "[[1, 2, 3, 4], ['', 'b', 'c'], [2.2, 3.3, 4.4]]\n"
     ]
    }
   ],
   "source": [
    "# Nested lists.\n",
    "\n",
    "list5 = [[1,2,3,4],['','b','c'],[2.2,3.3,4.4]]\n",
    "\n",
    "print(list5)"
   ]
  },
  {
   "cell_type": "code",
   "execution_count": 39,
   "id": "628c932e-fcbc-4afd-8190-b1b1dac1f809",
   "metadata": {},
   "outputs": [
    {
     "name": "stdout",
     "output_type": "stream",
     "text": [
      "[[0], [0, 1], [0, 1, 2], [0, 1, 2, 3]]\n"
     ]
    }
   ],
   "source": [
    "# Nested lists with for loop.\n",
    "\n",
    "list6 = []\n",
    "\n",
    "for i in range(1,5):\n",
    "    list7 = []\n",
    "    for j in range(i):\n",
    "        list7.append(j)\n",
    "    list6.append(list7)\n",
    "\n",
    "print(list6)"
   ]
  },
  {
   "cell_type": "code",
   "execution_count": 89,
   "id": "8b58f3f3-41be-410f-b62a-678118a03f95",
   "metadata": {},
   "outputs": [
    {
     "name": "stdout",
     "output_type": "stream",
     "text": [
      "<class 'tuple'>\n"
     ]
    }
   ],
   "source": [
    "# Tuples. Immutable lists.\n",
    "\n",
    "tup1 = ()\n",
    "print(type(tup1))"
   ]
  },
  {
   "cell_type": "code",
   "execution_count": 90,
   "id": "502992a7-5891-4f30-8321-22172d0feb8a",
   "metadata": {},
   "outputs": [
    {
     "name": "stdout",
     "output_type": "stream",
     "text": [
      "(1, 2, 3, 4, 5)\n"
     ]
    }
   ],
   "source": [
    "tup1 = (1,2,3,4,5)\n",
    "print(tup1)"
   ]
  },
  {
   "cell_type": "code",
   "execution_count": 105,
   "id": "07dada7c-f1bb-4bd7-bef4-23dbbee990b6",
   "metadata": {},
   "outputs": [
    {
     "data": {
      "text/plain": [
       "(1, 2, 1, 2, 3)"
      ]
     },
     "execution_count": 105,
     "metadata": {},
     "output_type": "execute_result"
    }
   ],
   "source": [
    "tup1 = (1,2)\n",
    "tup1 = tup1 + (1,2,3)\n",
    "tup1"
   ]
  },
  {
   "cell_type": "code",
   "execution_count": 107,
   "id": "235d9e84-88e2-4920-8273-b9639751d9b0",
   "metadata": {},
   "outputs": [
    {
     "name": "stdout",
     "output_type": "stream",
     "text": [
      "((0,), (0, 1), (0, 1, 2), (0, 1, 2, 3))\n"
     ]
    }
   ],
   "source": [
    "# for loops with Tuples\n",
    "\n",
    "tup2 = ()\n",
    "\n",
    "for i in range(1,5):\n",
    "    tup3 = ()\n",
    "    for j in range(i):\n",
    "        tup3 = tup3 + (j,)\n",
    "    tup2 = tup2 + (tup3,)\n",
    "\n",
    "print(tup2)\n",
    "        "
   ]
  },
  {
   "cell_type": "code",
   "execution_count": 125,
   "id": "969c4657-496d-47b5-972a-878169e8e915",
   "metadata": {},
   "outputs": [
    {
     "name": "stdin",
     "output_type": "stream",
     "text": [
      "Who's birthday do you want to know? Use format 'firstnamelastname'. heatherderriman\n"
     ]
    },
    {
     "name": "stdout",
     "output_type": "stream",
     "text": [
      "October 23 1988\n"
     ]
    }
   ],
   "source": [
    "birthdays = {'heatherderriman': \"October 23 1988\", 'kymderriman': \"July 14 1986\"}\n",
    "\n",
    "birthdayquery = input(\"Who's birthday do you want to know? Use format 'firstnamelastname'.\")\n",
    "\n",
    "print(birthdays[birthdayquery])\n"
   ]
  },
  {
   "cell_type": "code",
   "execution_count": 124,
   "id": "3aaa397f-58bc-4125-8ef9-ee88432f1655",
   "metadata": {},
   "outputs": [
    {
     "name": "stdout",
     "output_type": "stream",
     "text": [
      "July 14 1986\n"
     ]
    }
   ],
   "source": [
    "print(birthdays['kymbday'])"
   ]
  },
  {
   "cell_type": "code",
   "execution_count": 127,
   "id": "feac810d-2ddc-498f-a845-a1e1550eb427",
   "metadata": {},
   "outputs": [
    {
     "name": "stdout",
     "output_type": "stream",
     "text": [
      "{'A': (1, 2, 3), 'B': ['apple', 'orange', 'banana']}\n"
     ]
    }
   ],
   "source": [
    "# Messing with dictionaries\n",
    "#dictionaries can store multiple object types, even other dictionaries.\n",
    "\n",
    "dict1 = {'A':(1,2,3), 'B':['apple','orange','banana']}\n",
    "print(dict1)"
   ]
  },
  {
   "cell_type": "code",
   "execution_count": 146,
   "id": "6d4e5be0-399a-4f32-b437-3eda362a130c",
   "metadata": {},
   "outputs": [],
   "source": [
    "# Nested dictionaries\n",
    "\n",
    "dict2 = {\n",
    "    'C': {'e':'Hey bro!','f':'Heeeyyy'},\n",
    "    'D': {'g':'Sup yall','h':'We gooood!'}\n",
    "}"
   ]
  },
  {
   "cell_type": "code",
   "execution_count": 147,
   "id": "656297aa-0fe3-438a-85b2-53e393482764",
   "metadata": {},
   "outputs": [
    {
     "name": "stdout",
     "output_type": "stream",
     "text": [
      "{'C': {'e': 'Hey bro!', 'f': 'Heeeyyy'}, 'D': {'g': 'Sup yall', 'h': 'We gooood!'}}\n"
     ]
    }
   ],
   "source": [
    "print(dict2)"
   ]
  },
  {
   "cell_type": "code",
   "execution_count": 156,
   "id": "59e6dc23-69e4-4556-8702-585c1fedc0e1",
   "metadata": {},
   "outputs": [
    {
     "name": "stdout",
     "output_type": "stream",
     "text": [
      "dict_keys(['heatherderriman', 'kymderriman'])\n"
     ]
    }
   ],
   "source": [
    "print(birthdays.keys())"
   ]
  },
  {
   "cell_type": "code",
   "execution_count": 157,
   "id": "19d45724-943e-4666-bb80-2695e924b3be",
   "metadata": {},
   "outputs": [
    {
     "name": "stdout",
     "output_type": "stream",
     "text": [
      "dict_values(['October 23 1988', 'July 14 1986'])\n"
     ]
    }
   ],
   "source": [
    "print(birthdays.values())"
   ]
  },
  {
   "cell_type": "code",
   "execution_count": 163,
   "id": "c840b5a2-2322-4a6c-ba41-677afd4cd781",
   "metadata": {},
   "outputs": [
    {
     "data": {
      "text/plain": [
       "False"
      ]
     },
     "execution_count": 163,
     "metadata": {},
     "output_type": "execute_result"
    }
   ],
   "source": [
    "#Boolean Stuff"
   ]
  },
  {
   "cell_type": "code",
   "execution_count": 165,
   "id": "978e12e1-050c-433b-a7ea-b3d65c8baaf4",
   "metadata": {},
   "outputs": [
    {
     "name": "stdout",
     "output_type": "stream",
     "text": [
      "<class 'bool'>\n",
      "<class 'bool'>\n"
     ]
    }
   ],
   "source": [
    "a = True\n",
    "b = False\n",
    "\n",
    "print(type(True))\n",
    "print(type(False))"
   ]
  },
  {
   "cell_type": "code",
   "execution_count": 166,
   "id": "83d05673-98ce-4c9b-bb9e-23928e0e35d1",
   "metadata": {},
   "outputs": [
    {
     "name": "stdout",
     "output_type": "stream",
     "text": [
      "True\n"
     ]
    }
   ],
   "source": [
    "a = 1932\n",
    "b = 477\n",
    "\n",
    "print(a > b)"
   ]
  },
  {
   "cell_type": "code",
   "execution_count": 167,
   "id": "cbe25b54-7534-4ce2-9e8c-ac63a9bae332",
   "metadata": {},
   "outputs": [
    {
     "name": "stdout",
     "output_type": "stream",
     "text": [
      "False\n"
     ]
    }
   ],
   "source": [
    "print(a == b)"
   ]
  },
  {
   "cell_type": "code",
   "execution_count": 170,
   "id": "2604d975-6a28-4d2f-98c3-158cc63af2f2",
   "metadata": {},
   "outputs": [
    {
     "name": "stdout",
     "output_type": "stream",
     "text": [
      "<class 'set'>\n"
     ]
    }
   ],
   "source": [
    "\"\"\" Messing with Sets\n",
    "Sets are like lists but each value must be unique.\"\"\"\n",
    "\n",
    "set1 = set()\n",
    "print(type(set1))"
   ]
  },
  {
   "cell_type": "code",
   "execution_count": 172,
   "id": "0ddd13de-c20e-4aa0-87cf-74f284ec6865",
   "metadata": {},
   "outputs": [
    {
     "name": "stdout",
     "output_type": "stream",
     "text": [
      "{1, 2, 3, 4, 5}\n"
     ]
    }
   ],
   "source": [
    "set1 = set([1,2,3,4,5])\n",
    "print(set1)"
   ]
  },
  {
   "cell_type": "code",
   "execution_count": 175,
   "id": "1e7c051e-3be3-4447-b0ec-318c7305baca",
   "metadata": {},
   "outputs": [
    {
     "name": "stdout",
     "output_type": "stream",
     "text": [
      "{1, 2, 3, 4, 5, 6, 9}\n"
     ]
    }
   ],
   "source": [
    "#If you enter duplicate items into a set, the dupes will be removed.\n",
    "\n",
    "set1 = set([1,1,2,3,4,4,4,4,5,6,9])\n",
    "print(set1)"
   ]
  },
  {
   "cell_type": "code",
   "execution_count": 1,
   "id": "6dbad32e-1beb-4ff2-8d43-a4e07c5e607b",
   "metadata": {},
   "outputs": [
    {
     "name": "stdout",
     "output_type": "stream",
     "text": [
      "[9, 10, 11, 12, 12, 13, 14, 15]\n"
     ]
    }
   ],
   "source": [
    "# Basic Operations\n",
    "\n",
    "list_1a = [9,10,11,12]\n",
    "list_2a = [12,13,14,15]\n",
    "\n",
    "list_3a = list_1a + list_2a\n",
    "print(list_3a)"
   ]
  },
  {
   "cell_type": "code",
   "execution_count": 6,
   "id": "ccc4b1d6-7c88-4bb2-a5d8-c7e4a64c77fa",
   "metadata": {},
   "outputs": [
    {
     "name": "stdout",
     "output_type": "stream",
     "text": [
      "['A', 'B', 'C']\n",
      "F\n",
      "A\n"
     ]
    }
   ],
   "source": [
    "list1 = ['A','B','C','D','E','F']\n",
    "first_element = list1[0]\n",
    "last_element = list1[-1]\n",
    "list2 = [['A','B','C'],['D','E','F'],['G','H']] \n",
    "first_list = list2[0]\n",
    "\n",
    "print(first_list)\n",
    "print(last_element)\n",
    "print(first_element)"
   ]
  },
  {
   "cell_type": "code",
   "execution_count": 8,
   "id": "4ebd38b6-4ac1-448c-99b0-1482085a1055",
   "metadata": {},
   "outputs": [
    {
     "name": "stdout",
     "output_type": "stream",
     "text": [
      "A\n",
      "F\n"
     ]
    }
   ],
   "source": [
    "list2 = [['A','B','C'],['D','E','F'],['G','H']] \n",
    "\n",
    "first_element = list2[0][0]\n",
    "\n",
    "print(first_element)\n",
    "\n",
    "f_element = list2[1][-1]\n",
    "\n",
    "print(f_element)"
   ]
  },
  {
   "cell_type": "code",
   "execution_count": 22,
   "id": "b22b606e-0653-44eb-a07a-78f9a46710a1",
   "metadata": {},
   "outputs": [
    {
     "name": "stdout",
     "output_type": "stream",
     "text": [
      "[1, 2, 3, 4, 5, 6, 7, 8, 9]\n"
     ]
    }
   ],
   "source": [
    "list1 = []\n",
    "count = 9\n",
    "for num in range(count):\n",
    "    element = num + 1\n",
    "    list1.append(element)\n",
    "print(list1)"
   ]
  },
  {
   "cell_type": "code",
   "execution_count": 30,
   "id": "6c4d35b3-471e-40e9-97ab-a4d0c60a31fc",
   "metadata": {},
   "outputs": [
    {
     "name": "stdout",
     "output_type": "stream",
     "text": [
      "[1, 2, 3]\n",
      "[6, 7, 8, 9]\n"
     ]
    }
   ],
   "source": [
    "# slicing the list\n",
    "\n",
    "sliced_first3 = list1[:3]\n",
    "sliced_last4 = list1[-4:]\n",
    "\n",
    "print(sliced_first3)\n",
    "print(sliced_last4)"
   ]
  },
  {
   "cell_type": "code",
   "execution_count": 31,
   "id": "90a4d437-3244-4aec-b795-ae4c80ef457e",
   "metadata": {},
   "outputs": [
    {
     "name": "stdout",
     "output_type": "stream",
     "text": [
      "[[5, 6], [7, 8, 9]]\n"
     ]
    }
   ],
   "source": [
    "# extracting embedded lists with slicing\n",
    "\n",
    "list1 = [[1,2],[3,4],[5,6],[7,8,9]]\n",
    "\n",
    "# extract last 2 elements\n",
    "\n",
    "last_2 = list1[-2:]\n",
    "print(last_2)\n"
   ]
  },
  {
   "cell_type": "code",
   "execution_count": 32,
   "id": "c298fb2c-36a7-43fa-b2f5-b121133e8f10",
   "metadata": {},
   "outputs": [
    {
     "name": "stdout",
     "output_type": "stream",
     "text": [
      "[8, 9]\n"
     ]
    }
   ],
   "source": [
    "# extracting pinpointed values\n",
    "# extract the last 2 elements of the last embedded list above\n",
    "\n",
    "last_2_elements = list1[-2:][1][-2:]\n",
    "print(last_2_elements)"
   ]
  },
  {
   "cell_type": "code",
   "execution_count": 35,
   "id": "3a594b8c-5053-449a-870f-3fd216890b19",
   "metadata": {},
   "outputs": [
    {
     "name": "stdout",
     "output_type": "stream",
     "text": [
      "[1, 2, 3, 4, 5, 6, 7, 8, 9]\n",
      "[1, 2, 3, 4, 'I was here', 5, 6, 7, 8, 9]\n"
     ]
    }
   ],
   "source": [
    "# inserting elements into a list\n",
    "\n",
    "list1 = []\n",
    "num_elements = 9\n",
    "for num in range(num_elements):\n",
    "    count = num+1\n",
    "    list1.append(count)\n",
    "print(list1)\n",
    "\n",
    "list1.insert(4,'I was here')\n",
    "\n",
    "print(list1)"
   ]
  },
  {
   "cell_type": "code",
   "execution_count": 39,
   "id": "2971a054-7efb-47be-8d1f-b443b6ffb651",
   "metadata": {},
   "outputs": [
    {
     "name": "stdout",
     "output_type": "stream",
     "text": [
      "[1, 2, 3, 4, 5, 6, 7, 8, 9, 10, 11, 12, 10, 20, 30, 40]\n"
     ]
    }
   ],
   "source": [
    "#extending\n",
    "\n",
    "list1 = []\n",
    "num_elements = 12\n",
    "\n",
    "for num in range(num_elements):\n",
    "    count = num + 1\n",
    "    list1.append(count)\n",
    "\n",
    "list2 = []\n",
    "num_big_elements = 4\n",
    "\n",
    "for num in range(num_big_elements):\n",
    "    big_count = (num + 1) * 10\n",
    "    list2.append(big_count)\n",
    "\n",
    "#print(list1, list2)\n",
    "\n",
    "#now extend list 1 by adding list 2 to it.\n",
    "\n",
    "list1.extend(list2)\n",
    "\n",
    "print(list1)"
   ]
  },
  {
   "cell_type": "code",
   "execution_count": 41,
   "id": "f386ab30-7707-4817-bd91-b6ec5f8b6482",
   "metadata": {},
   "outputs": [
    {
     "name": "stdout",
     "output_type": "stream",
     "text": [
      "[1, 2, 3, 4, 5, 6]\n"
     ]
    }
   ],
   "source": [
    "# deleting list elements\n",
    "\n",
    "list1 = [1,2,3,'Peter',4,5,6]\n",
    "list1.remove('Peter')\n",
    "print(list1)"
   ]
  },
  {
   "cell_type": "code",
   "execution_count": 43,
   "id": "0cd9d86a-37af-428a-8a30-aae3d61e5ee6",
   "metadata": {},
   "outputs": [
    {
     "name": "stdout",
     "output_type": "stream",
     "text": [
      "[1, 2, 3, 4, 5, 6]\n"
     ]
    }
   ],
   "source": [
    "# deleting list elements\n",
    "\n",
    "list1 = [1,2,3,'Peter',4,5,6]\n",
    "list1.pop(3)\n",
    "print(list1)"
   ]
  },
  {
   "cell_type": "code",
   "execution_count": 44,
   "id": "a9b1657d-f0d2-43cc-a3c1-59f9c53c65aa",
   "metadata": {},
   "outputs": [
    {
     "name": "stdout",
     "output_type": "stream",
     "text": [
      "[1, 2, 3, 4, 5, 6]\n"
     ]
    }
   ],
   "source": [
    "# deleting list elements\n",
    "\n",
    "list1 = [1,2,3,'Peter',4,5,6]\n",
    "del list1[3]\n",
    "print(list1)"
   ]
  },
  {
   "cell_type": "code",
   "execution_count": 46,
   "id": "6ecf6848-3e10-49bd-bcc3-d343e1181283",
   "metadata": {},
   "outputs": [
    {
     "name": "stdout",
     "output_type": "stream",
     "text": [
      "Please, just do this...\n",
      "Please, just do this...bitch!\n"
     ]
    }
   ],
   "source": [
    "#concatenate strings\n",
    "\n",
    "strong_af = 'bitch!'\n",
    "plea = 'Please, just do this...'\n",
    "\n",
    "strong_plea = plea + strong_af\n",
    "print(plea)\n",
    "print(strong_plea)"
   ]
  },
  {
   "cell_type": "code",
   "execution_count": 48,
   "id": "8f8c4c65-68d2-4a23-bcfe-76ff2b2352b9",
   "metadata": {},
   "outputs": [
    {
     "name": "stdout",
     "output_type": "stream",
     "text": [
      "First element is: H\n",
      "Last element is: p\n"
     ]
    }
   ],
   "source": [
    "# indexing and slicing of string\n",
    "\n",
    "str1 = 'Hey, whatup'\n",
    "first_element = str1[0]\n",
    "last_element = str1[-1]\n",
    "\n",
    "print('First element is:',first_element)\n",
    "print('Last element is:',last_element)"
   ]
  },
  {
   "cell_type": "code",
   "execution_count": 53,
   "id": "c333b2b5-a1e9-4af1-926d-3dc9357ac1ef",
   "metadata": {},
   "outputs": [
    {
     "name": "stdout",
     "output_type": "stream",
     "text": [
      "My first name is Kym.\n",
      "My last name is Derriman.\n"
     ]
    }
   ],
   "source": [
    "my_name = 'Kym Derriman'\n",
    "last_name = my_name[-8:]\n",
    "first_name = my_name[:3]\n",
    "\n",
    "print(\"My first name is\",first_name+\".\")\n",
    "print(\"My last name is\",last_name+\".\")"
   ]
  },
  {
   "cell_type": "code",
   "execution_count": 1,
   "id": "08c9921f-fa6d-41df-8aa1-8fce35a00f9b",
   "metadata": {},
   "outputs": [
    {
     "name": "stdout",
     "output_type": "stream",
     "text": [
      "{'two': 2, 'three': 3}\n"
     ]
    }
   ],
   "source": [
    "dict1 = {'one':1, 'two':2, 'three':3}\n",
    "\n",
    "#deleting first element\n",
    "del dict1['one']\n",
    "print(dict1)"
   ]
  },
  {
   "cell_type": "code",
   "execution_count": 2,
   "id": "fae43fe2-5933-47a3-8919-9bd1b4639784",
   "metadata": {},
   "outputs": [
    {
     "name": "stdout",
     "output_type": "stream",
     "text": [
      "{'taylor': 'November 23, 2018', 'avery': 'September 28, 2021', 'heather': 'October 23, 1988'}\n"
     ]
    }
   ],
   "source": [
    "# updating dictionary by adding a second dictionary, which overwrites any overlapping keys\n",
    "\n",
    "dict1 = {'taylor':'November 23, 2018', 'avery': 'September 28, 2021'}\n",
    "dict2 = {'heather':'October 23, 1988'}\n",
    "\n",
    "dict1.update(dict2)\n",
    "print(dict1)"
   ]
  },
  {
   "cell_type": "code",
   "execution_count": 5,
   "id": "50959460-5a64-4e13-a967-d6e7ce7d6c7a",
   "metadata": {},
   "outputs": [
    {
     "name": "stdout",
     "output_type": "stream",
     "text": [
      "Keys: dict_keys(['one', 'two', 'three'])\n",
      "Values: dict_values([1, 2, 3])\n",
      "Items: dict_items([('one', 1), ('two', 2), ('three', 3)])\n"
     ]
    }
   ],
   "source": [
    "dict1 = {'one':1, 'two':2, 'three':3}\n",
    "\n",
    "#getting keys\n",
    "keys = dict1.keys()\n",
    "\n",
    "#getting values\n",
    "values = dict1.values()\n",
    "\n",
    "print('Keys:',keys)\n",
    "print('Values:',values)\n",
    "\n",
    "#getting key / value pair as tuples\n",
    "items = dict1.items()\n",
    "\n",
    "print('Items:',items)"
   ]
  },
  {
   "cell_type": "code",
   "execution_count": null,
   "id": "f12e9910-0673-44e7-9cfc-dc86188abc7e",
   "metadata": {},
   "outputs": [],
   "source": []
  },
  {
   "cell_type": "code",
   "execution_count": null,
   "id": "de104f21-1547-4b25-86f4-608141428cc3",
   "metadata": {},
   "outputs": [],
   "source": []
  }
 ],
 "metadata": {
  "kernelspec": {
   "display_name": "Python 3 (ipykernel)",
   "language": "python",
   "name": "python3"
  },
  "language_info": {
   "codemirror_mode": {
    "name": "ipython",
    "version": 3
   },
   "file_extension": ".py",
   "mimetype": "text/x-python",
   "name": "python",
   "nbconvert_exporter": "python",
   "pygments_lexer": "ipython3",
   "version": "3.11.5"
  }
 },
 "nbformat": 4,
 "nbformat_minor": 5
}
