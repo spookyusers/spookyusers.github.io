{
 "cells": [
  {
   "cell_type": "code",
   "execution_count": null,
   "id": "9e427e2a-894d-4473-bb7d-0ddb5d8ea11b",
   "metadata": {},
   "outputs": [
    {
     "name": "stdout",
     "output_type": "stream",
     "text": [
      "\n",
      "Task Tracker\n",
      "1. Add Task\n",
      "2. List Tasks\n",
      "3. Complete Task\n",
      "4. Exit\n"
     ]
    },
    {
     "name": "stdin",
     "output_type": "stream",
     "text": [
      "Choose an option:  2\n"
     ]
    },
    {
     "name": "stdout",
     "output_type": "stream",
     "text": [
      "No tasks added yet.\n",
      "\n",
      "Task Tracker\n",
      "1. Add Task\n",
      "2. List Tasks\n",
      "3. Complete Task\n",
      "4. Exit\n"
     ]
    }
   ],
   "source": [
    "# TaskTracker Program\n",
    "\n",
    "class TaskTracker:\n",
    "    def __init__(self):\n",
    "        self.tasks = []\n",
    "\n",
    "    def add_task(self, task):\n",
    "        self.tasks.append({\"task\": task, \"completed\": False})\n",
    "\n",
    "    def list_tasks(self):\n",
    "        if not self.tasks:\n",
    "            print(\"No tasks added yet.\")\n",
    "            return\n",
    "        for i, task in enumerate(self.tasks, start=1):\n",
    "            status = \"Done\" if task[\"completed\"] else \"Not Done\"\n",
    "            print(f\"{i}. {task['task']} - {status}\")\n",
    "\n",
    "    def complete_task(self, index):\n",
    "        if index - 1 < len(self.tasks):\n",
    "            self.tasks[index - 1][\"completed\"] = True\n",
    "            print(f\"Task {index} marked as completed.\")\n",
    "        else:\n",
    "            print(\"Task not found.\")\n",
    "\n",
    "if __name__ == \"__main__\":\n",
    "    tracker = TaskTracker()\n",
    "\n",
    "    while True:\n",
    "        print(\"\\nTask Tracker\")\n",
    "        print(\"1. Add Task\")\n",
    "        print(\"2. List Tasks\")\n",
    "        print(\"3. Complete Task\")\n",
    "        print(\"4. Exit\")\n",
    "        choice = input(\"Choose an option: \")\n",
    "\n",
    "        if choice == \"1\":\n",
    "            task = input(\"Enter task description: \")\n",
    "            tracker.add_task(task)\n",
    "            print(\"Task added.\")\n",
    "        elif choice == \"2\":\n",
    "            tracker.list_tasks()\n",
    "        elif choice == \"3\":\n",
    "            task_index = int(input(\"Enter task number to mark as completed: \"))\n",
    "            tracker.complete_task(task_index)\n",
    "        elif choice == \"4\":\n",
    "            print(\"Exiting Task Tracker.\")\n",
    "            break\n",
    "        else:\n",
    "            print(\"Invalid choice. Please try again.\")\n"
   ]
  },
  {
   "cell_type": "code",
   "execution_count": null,
   "id": "46acb007-ee27-4625-8cbf-5c69158c3279",
   "metadata": {},
   "outputs": [],
   "source": []
  }
 ],
 "metadata": {
  "kernelspec": {
   "display_name": "Python 3 (ipykernel)",
   "language": "python",
   "name": "python3"
  },
  "language_info": {
   "codemirror_mode": {
    "name": "ipython",
    "version": 3
   },
   "file_extension": ".py",
   "mimetype": "text/x-python",
   "name": "python",
   "nbconvert_exporter": "python",
   "pygments_lexer": "ipython3",
   "version": "3.11.5"
  }
 },
 "nbformat": 4,
 "nbformat_minor": 5
}
