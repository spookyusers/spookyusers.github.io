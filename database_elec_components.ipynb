{
  "nbformat": 4,
  "nbformat_minor": 0,
  "metadata": {
    "colab": {
      "provenance": [],
      "toc_visible": true
    },
    "kernelspec": {
      "name": "python3",
      "display_name": "Python 3"
    },
    "language_info": {
      "name": "python"
    }
  },
  "cells": [
    {
      "cell_type": "markdown",
      "source": [
        "# Create a SQLite3 database for component tracking"
      ],
      "metadata": {
        "id": "SsrCUcbGjLPs"
      }
    },
    {
      "cell_type": "code",
      "execution_count": null,
      "metadata": {
        "id": "rlV3z_CHdiQs"
      },
      "outputs": [],
      "source": [
        "# Kym, January 26 2023\n",
        "# GPT guide link - https://chat.openai.com/share/1d104082-6b16-4621-bf23-118fa4009825\n",
        "# Jan 26: Need to add other fields to the update function\n",
        "  # Review update function and delete function for learning\n",
        "  # View GPT guide link to add further functionality, including error handling\n",
        "  # Probably should add a function to search components by keyword, or at least\n",
        "    # to show a list of component types\n",
        "\n",
        "#import SQLite database\n",
        "import sqlite3\n"
      ]
    },
    {
      "cell_type": "code",
      "source": [
        "# Connect to SQLite database (or create it if it doesn't exist)\n",
        "conn = sqlite3.connect('components.db')"
      ],
      "metadata": {
        "id": "vKB27XRhf3i0"
      },
      "execution_count": null,
      "outputs": []
    },
    {
      "cell_type": "code",
      "source": [
        "# Create a cursor object using the cursor method\n",
        "cursor = conn.cursor()"
      ],
      "metadata": {
        "id": "1hStGOutf5V8"
      },
      "execution_count": null,
      "outputs": []
    },
    {
      "cell_type": "code",
      "source": [
        "# Create schema\n",
        "create_table_query = '''CREATE TABLE IF NOT EXISTS components(\n",
        "                        ID INTEGER PRIMARY KEY AUTOINCREMENT,\n",
        "                        ComponentType TEXT,\n",
        "                        Value TEXT,\n",
        "                        PackageType TEXT,\n",
        "                        Quantity INTEGER,\n",
        "                        PartNumber TEXT,\n",
        "                        DatasheetLink TEXT,\n",
        "                        Notes TEXT\n",
        "                        );'''"
      ],
      "metadata": {
        "id": "swAau05kgO1M"
      },
      "execution_count": null,
      "outputs": []
    },
    {
      "cell_type": "code",
      "source": [
        "# Execute the SQL command\n",
        "cursor.execute(create_table_query)"
      ],
      "metadata": {
        "colab": {
          "base_uri": "https://localhost:8080/"
        },
        "id": "F2jSkayag_l7",
        "outputId": "f744225e-f275-483a-ee2d-cfde90ea974f"
      },
      "execution_count": null,
      "outputs": [
        {
          "output_type": "execute_result",
          "data": {
            "text/plain": [
              "<sqlite3.Cursor at 0x7b5e302de4c0>"
            ]
          },
          "metadata": {},
          "execution_count": 6
        }
      ]
    },
    {
      "cell_type": "code",
      "source": [
        "# Commit the changes\n",
        "conn.commit()"
      ],
      "metadata": {
        "id": "jZhf_OmChu0c"
      },
      "execution_count": null,
      "outputs": []
    },
    {
      "cell_type": "code",
      "source": [
        "# Close the database connection\n",
        "conn.close()"
      ],
      "metadata": {
        "id": "Q-Gbcspjh5YE"
      },
      "execution_count": null,
      "outputs": []
    },
    {
      "cell_type": "markdown",
      "source": [
        "# Create a script for data entry"
      ],
      "metadata": {
        "id": "pxjP05FkjEdt"
      }
    },
    {
      "cell_type": "code",
      "source": [
        "import sqlite3\n",
        "\n",
        "# Create a function to add components\n",
        "def add_component(component_type, value, package_type, quantity, part_number, datasheet_link, notes):\n",
        "\n",
        "  # Connect to database\n",
        "  conn = sqlite3.connect('components.db')\n",
        "  cursor = conn.cursor()\n",
        "\n",
        "  # SQL command to insert a new entry into the components table\n",
        "  insert_query = '''INSERT INTO components (ComponentType, Value, PackageType, Quantity, PartNumber, DatasheetLink, Notes)\n",
        "                    VALUES (?,?,?,?,?,?,?)'''\n",
        "\n",
        "  # Execute the SQL command\n",
        "  cursor.execute(insert_query, (component_type, value, package_type, quantity, part_number, datasheet_link, notes))\n",
        "\n",
        "  # Commit the changes\n",
        "  conn.commit()\n",
        "\n",
        "  # Close the database connection\n",
        "  conn.close()\n",
        "\n",
        "# Example usage\n",
        "add_component('Resistor', '220Ω', 'Through-hole', 10, 'R220-01', 'http://example.com/datasheet.pdf', 'High precision')\n"
      ],
      "metadata": {
        "id": "oUAqbmIMh8fr"
      },
      "execution_count": null,
      "outputs": []
    },
    {
      "cell_type": "code",
      "source": [
        "# real component that I have (still on salvaged TV circuit)\n",
        "\n",
        "add_component(\n",
        "    component_type='DC/DC Converter',\n",
        "    value='0.95V / 3A',  # Combines voltage and current for the value field\n",
        "    package_type='Unknown',  # Package type is not specified\n",
        "    quantity=1,\n",
        "    part_number='MSH6103A',\n",
        "    datasheet_link='https://hisense.fr/download/serie/A7120F/guide-reparation.pdf',\n",
        "      # shown on \"power tree\" section, page 48 of the link above\n",
        "    notes='Used for CPU Power, controllable via PWR_ON/OFF'\n",
        ")\n"
      ],
      "metadata": {
        "id": "zVPdVUEHwdPQ"
      },
      "execution_count": null,
      "outputs": []
    },
    {
      "cell_type": "markdown",
      "source": [
        "# Build a function to query the database"
      ],
      "metadata": {
        "id": "i_P4-MxSnssL"
      }
    },
    {
      "cell_type": "code",
      "source": [
        "# Function to query the database\n",
        "\n",
        "import sqlite3\n",
        "\n",
        "# Create the function\n",
        "def query_components_by_type(component_type):\n",
        "\n",
        "  # Connect to the SQLite database\n",
        "  conn = sqlite3.connect('components.db')\n",
        "  cursor = conn.cursor()\n",
        "\n",
        "  #SQL command to query components of a specific type\n",
        "  query = '''SELECT * FROM components WHERE ComponentType = ?;'''\n",
        "                    # *: This symbol means \"all columns.\" When used with SELECT,\n",
        "                    # it tells the database to return every column for each row\n",
        "                    # that matches the query. For example, if your table has\n",
        "                    # columns for ID, ComponentType, Value, etc., using * will\n",
        "                    # retrieve all of these fields.\n",
        "\n",
        "  # Execute the SQL command\n",
        "  cursor.execute(query, (component_type,))\n",
        "\n",
        "  # Fetch all rows matching the query\n",
        "  results = cursor.fetchall()\n",
        "\n",
        "  # Close the database connection\n",
        "  conn.close()\n",
        "\n",
        "  return results\n",
        "\n",
        "# Example usage\n",
        "components = query_components_by_type('Resistor')\n",
        "for component in components:\n",
        "  print(component)\n"
      ],
      "metadata": {
        "colab": {
          "base_uri": "https://localhost:8080/"
        },
        "id": "OJeba2APndRj",
        "outputId": "17805269-5cdc-43ae-b5aa-9a8dfaa1dba2"
      },
      "execution_count": null,
      "outputs": [
        {
          "output_type": "stream",
          "name": "stdout",
          "text": [
            "(1, 'Resistor', '220Ω', 'Through-hole', 10, 'R220-01', 'http://example.com/datasheet.pdf', 'High precision')\n"
          ]
        }
      ]
    },
    {
      "cell_type": "code",
      "source": [
        "components = query_components_by_type('DC/DC Converter')\n",
        "for component in components:\n",
        "  print(component)"
      ],
      "metadata": {
        "colab": {
          "base_uri": "https://localhost:8080/"
        },
        "id": "lhq2Lk6Px2Ax",
        "outputId": "8e48d015-9267-4ea6-8185-38de8e52d559"
      },
      "execution_count": null,
      "outputs": [
        {
          "output_type": "stream",
          "name": "stdout",
          "text": [
            "(2, 'DC/DC Converter', '0.95V / 3A', 'Unknown', 1, 'MSH6103A', 'https://hisense.fr/download/serie/A7120F/guide-reparation.pdf', 'Used for CPU Power, controllable via PWR_ON/OFF')\n"
          ]
        }
      ]
    },
    {
      "cell_type": "markdown",
      "source": [
        "# Create an update function"
      ],
      "metadata": {
        "id": "SWw57_cbsxoi"
      }
    },
    {
      "cell_type": "code",
      "source": [
        "import sqlite3\n",
        "\n",
        "def update_component(id, component_type=None, value=None, package_type=None, quantity=None, part_number=None, datasheet_link=None, notes=None):\n",
        "    conn = sqlite3.connect('components.db')\n",
        "    cursor = conn.cursor()\n",
        "\n",
        "    update_data = []\n",
        "    query = \"UPDATE components SET \"\n",
        "\n",
        "    if component_type:\n",
        "        query += \"ComponentType = ?, \"\n",
        "        update_data.append(component_type)\n",
        "    if value:\n",
        "        query += \"Value = ?, \"\n",
        "        update_data.append(value)\n",
        "    # Repeat for other fields...\n",
        "\n",
        "    query = query.rstrip(\", \")  # Remove the trailing comma\n",
        "    query += \" WHERE ID = ?;\"\n",
        "    update_data.append(id)\n",
        "\n",
        "    cursor.execute(query, tuple(update_data))\n",
        "    conn.commit()\n",
        "    conn.close()\n",
        "\n",
        "# Example usage\n",
        "update_component(1, quantity=15, notes=\"Updated quantity and notes\")\n"
      ],
      "metadata": {
        "id": "L4gpKTpIqLe6"
      },
      "execution_count": null,
      "outputs": []
    },
    {
      "cell_type": "markdown",
      "source": [
        "# Create a delete function"
      ],
      "metadata": {
        "id": "HEnsEUqPtZVa"
      }
    },
    {
      "cell_type": "code",
      "source": [
        "import sqlite3\n",
        "\n",
        "def delete_component(id):\n",
        "    conn = sqlite3.connect('components.db')\n",
        "    cursor = conn.cursor()\n",
        "\n",
        "    query = \"DELETE FROM components WHERE ID = ?;\"\n",
        "    cursor.execute(query, (id,))\n",
        "\n",
        "    conn.commit()\n",
        "    conn.close()\n",
        "\n",
        "# Example usage\n",
        "delete_component(2)\n"
      ],
      "metadata": {
        "id": "_nXrpJ-_tfpY"
      },
      "execution_count": null,
      "outputs": []
    }
  ]
}