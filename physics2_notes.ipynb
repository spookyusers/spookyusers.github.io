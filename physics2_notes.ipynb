{
 "cells": [
  {
   "cell_type": "code",
   "execution_count": 1,
   "id": "b2b3ba64-9412-4d34-9ac5-e271206a3b35",
   "metadata": {},
   "outputs": [
    {
     "data": {
      "text/plain": [
       "'\\nPhysics 2 Notes\\nFebruary 1 2023\\n'"
      ]
     },
     "execution_count": 1,
     "metadata": {},
     "output_type": "execute_result"
    }
   ],
   "source": [
    "\"\"\"\n",
    "Physics 2 Notes\n",
    "February 1 2023\n",
    "\"\"\"\n"
   ]
  },
  {
   "cell_type": "markdown",
   "id": "2545bbe2-3d4a-4b60-b218-d364a16bad82",
   "metadata": {},
   "source": [
    "Electric field (radially outward)\n",
    "$ E = k_e \\frac{q1q2}{r^2} $"
   ]
  },
  {
   "cell_type": "markdown",
   "id": "8e0bd266-6b7a-4529-9249-49f124c1967e",
   "metadata": {},
   "source": [
    "Integral form Coulomb's Law:\n",
    "$ E = k \\int \\frac{dq}{r^2} $"
   ]
  },
  {
   "cell_type": "markdown",
   "id": "73348769-6456-42f6-b012-e13f48e96973",
   "metadata": {},
   "source": [
    "Vpotential = $\\frac{kq}{r}$ = $ \\frac{Nm^2}{C^2}$(C)(1r) =Vm = NmC = JC\n",
    "Vp = (potential at r dist) = (k constant)(charge)(distance)\n",
    "E = k(|q1||q2|r2)\n",
    "\n",
    "V  1r , V  \n",
    "Value of V around a point like charge is:   V = kqr\n"
   ]
  },
  {
   "cell_type": "code",
   "execution_count": null,
   "id": "028c6d69-9a86-408b-b610-701c381e12e8",
   "metadata": {},
   "outputs": [],
   "source": []
  }
 ],
 "metadata": {
  "kernelspec": {
   "display_name": "Python 3 (ipykernel)",
   "language": "python",
   "name": "python3"
  },
  "language_info": {
   "codemirror_mode": {
    "name": "ipython",
    "version": 3
   },
   "file_extension": ".py",
   "mimetype": "text/x-python",
   "name": "python",
   "nbconvert_exporter": "python",
   "pygments_lexer": "ipython3",
   "version": "3.11.5"
  }
 },
 "nbformat": 4,
 "nbformat_minor": 5
}
