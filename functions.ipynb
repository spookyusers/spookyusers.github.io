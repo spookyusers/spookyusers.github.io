{
 "cells": [
  {
   "cell_type": "code",
   "execution_count": 4,
   "id": "a4960724-b513-40c1-8e82-e9201921d865",
   "metadata": {},
   "outputs": [
    {
     "name": "stdout",
     "output_type": "stream",
     "text": [
      "most basic function\n"
     ]
    }
   ],
   "source": [
    "# Learning functions\n",
    "\n",
    "def function():\n",
    "    print('most basic function')\n",
    "\n",
    "function()"
   ]
  },
  {
   "cell_type": "code",
   "execution_count": 18,
   "id": "e1034472-5514-4a8f-a7fe-bbf2a81b16a9",
   "metadata": {},
   "outputs": [
    {
     "name": "stdout",
     "output_type": "stream",
     "text": [
      "Name: None\n",
      "Age: None\n"
     ]
    }
   ],
   "source": [
    "# info function\n",
    "\n",
    "def info(name=None, age=None):\n",
    "    print('Name:', name)\n",
    "    print('Age:', age)\n",
    "    return\n",
    "info()\n",
    "# calling 'info' function giving value to age\n",
    "#info(age = 18, name = 'Alice')\n"
   ]
  },
  {
   "cell_type": "code",
   "execution_count": null,
   "id": "02d01546-7151-4af7-9edd-8cde01aaedfa",
   "metadata": {},
   "outputs": [],
   "source": [
    "# Python program to illustrate functions \n",
    "# can be treated as objects \n",
    "def shout(text): \n",
    "\treturn text.upper() \n",
    "\n",
    "print(shout('Hello')) \n",
    "\n",
    "yell = shout \n",
    "\n",
    "print(yell('Hello')) \n"
   ]
  },
  {
   "cell_type": "code",
   "execution_count": 20,
   "id": "4913a137-5b49-4fa9-b8e5-0bd90c63c0e3",
   "metadata": {},
   "outputs": [
    {
     "name": "stdout",
     "output_type": "stream",
     "text": [
      "Name: Alice\n",
      "Age: 18\n"
     ]
    }
   ],
   "source": [
    "class Person:\n",
    "    def __init__(self, name, age):\n",
    "        self.name = name\n",
    "        self.age = age\n",
    "\n",
    "    def info(self):  # Method requires 'self' to access instance variables\n",
    "        print('Name:', self.name)\n",
    "        print('Age:', self.age)\n",
    "\n",
    "alice = Person('Alice', 18)\n",
    "alice.info()  # Calling method on an instance of the class\n"
   ]
  },
  {
   "cell_type": "code",
   "execution_count": null,
   "id": "33fc6c7d-f951-48e6-9352-ad437cd752c6",
   "metadata": {},
   "outputs": [],
   "source": []
  }
 ],
 "metadata": {
  "kernelspec": {
   "display_name": "Python 3 (ipykernel)",
   "language": "python",
   "name": "python3"
  },
  "language_info": {
   "codemirror_mode": {
    "name": "ipython",
    "version": 3
   },
   "file_extension": ".py",
   "mimetype": "text/x-python",
   "name": "python",
   "nbconvert_exporter": "python",
   "pygments_lexer": "ipython3",
   "version": "3.11.5"
  }
 },
 "nbformat": 4,
 "nbformat_minor": 5
}
