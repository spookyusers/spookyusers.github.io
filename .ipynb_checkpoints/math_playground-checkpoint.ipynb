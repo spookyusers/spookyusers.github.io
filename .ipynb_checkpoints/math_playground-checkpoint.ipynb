{
 "cells": [
  {
   "cell_type": "code",
   "execution_count": 1,
   "id": "49715e60-5b0b-42f9-8f62-3075a93683e6",
   "metadata": {},
   "outputs": [],
   "source": [
    "# math playground\n",
    "\n",
    "import numpy as np\n",
    "\n",
    "m1 = np.array([1,2])"
   ]
  },
  {
   "cell_type": "code",
   "execution_count": 2,
   "id": "97246b1a-478c-4844-a32d-042eaf7736ce",
   "metadata": {},
   "outputs": [
    {
     "data": {
      "text/plain": [
       "array([1, 2])"
      ]
     },
     "execution_count": 2,
     "metadata": {},
     "output_type": "execute_result"
    }
   ],
   "source": [
    "m1"
   ]
  },
  {
   "cell_type": "code",
   "execution_count": null,
   "id": "765b5227-d952-43f9-b31f-65a349562346",
   "metadata": {},
   "outputs": [],
   "source": []
  }
 ],
 "metadata": {
  "kernelspec": {
   "display_name": "Python 3 (ipykernel)",
   "language": "python",
   "name": "python3"
  },
  "language_info": {
   "codemirror_mode": {
    "name": "ipython",
    "version": 3
   },
   "file_extension": ".py",
   "mimetype": "text/x-python",
   "name": "python",
   "nbconvert_exporter": "python",
   "pygments_lexer": "ipython3",
   "version": "3.11.5"
  }
 },
 "nbformat": 4,
 "nbformat_minor": 5
}
