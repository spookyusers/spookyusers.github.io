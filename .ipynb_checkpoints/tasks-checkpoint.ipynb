{
 "cells": [
  {
   "cell_type": "code",
   "execution_count": 25,
   "id": "66bf12a1-0325-4be9-9b84-c929109b0fdf",
   "metadata": {},
   "outputs": [],
   "source": [
    "# Tasks\n",
    "# Spookyusers February 2 2024\n",
    "\n",
    "class Task:\n",
    "    def __init__(self, name, status):#, subject, note, due, links = []):\n",
    "        self.name = name\n",
    "        self.status = status\n",
    "        #self.subject = subject\n",
    "        #self.note = note\n",
    "        #self.due = due\n",
    "        #self.links = links\n",
    "    def task_info(self):\n",
    "        print(\"Task info:\",name)\n",
    "      #  print(\"------------\")\n",
    "       # print(\"status:\",status)\n",
    "        #print(\"subject:\",subject)\n",
    "        #print(\"note:\",note)\n",
    "        #print(\"due:\",due)\n",
    "        #print(\"links:\",links)\n",
    "    #def add_link(self):\n",
    "     #   self.add_link()\n",
    "\n",
    "\n",
    "    # use this to create an interactive to-do list.\n",
    "\n",
    "# probably want to include dat/time tracker or autolog date at least\n",
    "\n",
    "#Feb 2 2024\n",
    "\n"
   ]
  },
  {
   "cell_type": "code",
   "execution_count": 20,
   "id": "945ac436-138c-4669-8b7f-7df2668313ac",
   "metadata": {},
   "outputs": [],
   "source": [
    "task1 = Task(\"chem hw\",\"open\")"
   ]
  },
  {
   "cell_type": "code",
   "execution_count": 21,
   "id": "84cc9d66-639a-4b47-8e65-e98855664979",
   "metadata": {},
   "outputs": [
    {
     "data": {
      "text/plain": [
       "'chem hw'"
      ]
     },
     "execution_count": 21,
     "metadata": {},
     "output_type": "execute_result"
    }
   ],
   "source": [
    "task1.name"
   ]
  },
  {
   "cell_type": "code",
   "execution_count": 22,
   "id": "b5ba8bde-52dc-4c8d-9479-4d8bc4398e7f",
   "metadata": {},
   "outputs": [
    {
     "data": {
      "text/plain": [
       "'open'"
      ]
     },
     "execution_count": 22,
     "metadata": {},
     "output_type": "execute_result"
    }
   ],
   "source": [
    "task1.status"
   ]
  },
  {
   "cell_type": "code",
   "execution_count": 23,
   "id": "7c99817c-207f-4366-a225-8ffa56431924",
   "metadata": {},
   "outputs": [],
   "source": [
    "task1.status = \"closed\""
   ]
  },
  {
   "cell_type": "code",
   "execution_count": 24,
   "id": "6edd8f62-8c58-4496-9b85-5a5395ef1361",
   "metadata": {},
   "outputs": [
    {
     "data": {
      "text/plain": [
       "'closed'"
      ]
     },
     "execution_count": 24,
     "metadata": {},
     "output_type": "execute_result"
    }
   ],
   "source": [
    "task1.status"
   ]
  },
  {
   "cell_type": "code",
   "execution_count": 29,
   "id": "5938e789-2d1e-4409-98bb-8316dfa5f9d3",
   "metadata": {},
   "outputs": [
    {
     "ename": "AttributeError",
     "evalue": "'Task' object has no attribute 'task_info'",
     "output_type": "error",
     "traceback": [
      "\u001b[0;31m---------------------------------------------------------------------------\u001b[0m",
      "\u001b[0;31mAttributeError\u001b[0m                            Traceback (most recent call last)",
      "Cell \u001b[0;32mIn[29], line 1\u001b[0m\n\u001b[0;32m----> 1\u001b[0m task1\u001b[38;5;241m.\u001b[39mtask_info\n",
      "\u001b[0;31mAttributeError\u001b[0m: 'Task' object has no attribute 'task_info'"
     ]
    }
   ],
   "source": [
    "task1.task_info"
   ]
  },
  {
   "cell_type": "code",
   "execution_count": 28,
   "id": "bc0071a5-96ef-4449-a7a9-3a0fd49904d0",
   "metadata": {},
   "outputs": [
    {
     "ename": "NameError",
     "evalue": "name 'task_info' is not defined",
     "output_type": "error",
     "traceback": [
      "\u001b[0;31m---------------------------------------------------------------------------\u001b[0m",
      "\u001b[0;31mNameError\u001b[0m                                 Traceback (most recent call last)",
      "Cell \u001b[0;32mIn[28], line 1\u001b[0m\n\u001b[0;32m----> 1\u001b[0m task_info(task1)\n",
      "\u001b[0;31mNameError\u001b[0m: name 'task_info' is not defined"
     ]
    }
   ],
   "source": [
    "task_info(task1)"
   ]
  },
  {
   "cell_type": "code",
   "execution_count": null,
   "id": "4fcc053b-c78a-4dcf-b799-8655a10fb93f",
   "metadata": {},
   "outputs": [],
   "source": []
  }
 ],
 "metadata": {
  "kernelspec": {
   "display_name": "Python 3 (ipykernel)",
   "language": "python",
   "name": "python3"
  },
  "language_info": {
   "codemirror_mode": {
    "name": "ipython",
    "version": 3
   },
   "file_extension": ".py",
   "mimetype": "text/x-python",
   "name": "python",
   "nbconvert_exporter": "python",
   "pygments_lexer": "ipython3",
   "version": "3.11.5"
  }
 },
 "nbformat": 4,
 "nbformat_minor": 5
}
