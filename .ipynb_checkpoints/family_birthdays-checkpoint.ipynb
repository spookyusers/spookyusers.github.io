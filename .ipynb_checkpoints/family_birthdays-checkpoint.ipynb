{
 "cells": [
  {
   "cell_type": "code",
   "execution_count": 11,
   "id": "fcefdbd5-a4bf-4226-84c7-5187a47d48d8",
   "metadata": {},
   "outputs": [
    {
     "ename": "NameError",
     "evalue": "name 'fam_member_info' is not defined",
     "output_type": "error",
     "traceback": [
      "\u001b[0;31m---------------------------------------------------------------------------\u001b[0m",
      "\u001b[0;31mNameError\u001b[0m                                 Traceback (most recent call last)",
      "Cell \u001b[0;32mIn[11], line 19\u001b[0m\n\u001b[1;32m     16\u001b[0m kymderriman \u001b[38;5;241m=\u001b[39m Family_member(\u001b[38;5;124m'\u001b[39m\u001b[38;5;124mKym Derriman\u001b[39m\u001b[38;5;124m'\u001b[39m,\u001b[38;5;124m'\u001b[39m\u001b[38;5;124mJuly 14, 1986\u001b[39m\u001b[38;5;124m'\u001b[39m)\n\u001b[1;32m     17\u001b[0m heatherderriman \u001b[38;5;241m=\u001b[39m Family_member(\u001b[38;5;124m'\u001b[39m\u001b[38;5;124mHeather Derriman, nea Kruchinsky\u001b[39m\u001b[38;5;124m'\u001b[39m,\u001b[38;5;124m'\u001b[39m\u001b[38;5;124mOctober 23, 1988\u001b[39m\u001b[38;5;124m'\u001b[39m)\n\u001b[0;32m---> 19\u001b[0m \u001b[38;5;28mprint\u001b[39m(fam_member_info(kymderriman))\n",
      "\u001b[0;31mNameError\u001b[0m: name 'fam_member_info' is not defined"
     ]
    }
   ],
   "source": [
    "# Family member birthday database\n",
    "\n",
    "# Birthday entry and lookup program. In progress.\n",
    "\n",
    "\n",
    "#birthdayquery = input(\"Who's birthday do you want to know? Use format 'firstnamelastname'.\")\n",
    "\n",
    "class Family_member:\n",
    "    def __init__(self,name,bday):\n",
    "        self.name = name\n",
    "        self.bday = bday\n",
    "    def fam_member_info(self):\n",
    "        print('Full name:',self.name)\n",
    "        print('Birthday:',bday)\n",
    "\n",
    "kymderriman = Family_member('Kym Derriman','July 14, 1986')\n",
    "heatherderriman = Family_member('Heather Derriman, nea Kruchinsky','October 23, 1988')\n",
    "\n",
    "print(fam_member_info(kymderriman))\n"
   ]
  },
  {
   "cell_type": "code",
   "execution_count": 8,
   "id": "6a2016d0-edd5-4388-bb30-8064a04fb41b",
   "metadata": {},
   "outputs": [
    {
     "data": {
      "text/plain": [
       "<__main__.Family_member at 0x10be8b210>"
      ]
     },
     "execution_count": 8,
     "metadata": {},
     "output_type": "execute_result"
    }
   ],
   "source": [
    "kymderriman"
   ]
  },
  {
   "cell_type": "code",
   "execution_count": 10,
   "id": "e7f480ba-25be-49d9-8b64-a4650e096e60",
   "metadata": {},
   "outputs": [
    {
     "ename": "NameError",
     "evalue": "name 'name' is not defined",
     "output_type": "error",
     "traceback": [
      "\u001b[0;31m---------------------------------------------------------------------------\u001b[0m",
      "\u001b[0;31mNameError\u001b[0m                                 Traceback (most recent call last)",
      "Cell \u001b[0;32mIn[10], line 1\u001b[0m\n\u001b[0;32m----> 1\u001b[0m kymderriman\u001b[38;5;241m.\u001b[39mfam_member_info()\n",
      "Cell \u001b[0;32mIn[7], line 13\u001b[0m, in \u001b[0;36mFamily_member.fam_member_info\u001b[0;34m(self)\u001b[0m\n\u001b[1;32m     12\u001b[0m \u001b[38;5;28;01mdef\u001b[39;00m \u001b[38;5;21mfam_member_info\u001b[39m(\u001b[38;5;28mself\u001b[39m):\n\u001b[0;32m---> 13\u001b[0m     \u001b[38;5;28mprint\u001b[39m(\u001b[38;5;124m'\u001b[39m\u001b[38;5;124mFull name:\u001b[39m\u001b[38;5;124m'\u001b[39m,name)\n\u001b[1;32m     14\u001b[0m     \u001b[38;5;28mprint\u001b[39m(\u001b[38;5;124m'\u001b[39m\u001b[38;5;124mBirthday:\u001b[39m\u001b[38;5;124m'\u001b[39m,bday)\n",
      "\u001b[0;31mNameError\u001b[0m: name 'name' is not defined"
     ]
    }
   ],
   "source": [
    "kymderriman.fam_member_info()"
   ]
  },
  {
   "cell_type": "code",
   "execution_count": null,
   "id": "49e4a3d0-d6a4-4037-9a92-8538bf441a9e",
   "metadata": {},
   "outputs": [],
   "source": []
  }
 ],
 "metadata": {
  "kernelspec": {
   "display_name": "Python 3 (ipykernel)",
   "language": "python",
   "name": "python3"
  },
  "language_info": {
   "codemirror_mode": {
    "name": "ipython",
    "version": 3
   },
   "file_extension": ".py",
   "mimetype": "text/x-python",
   "name": "python",
   "nbconvert_exporter": "python",
   "pygments_lexer": "ipython3",
   "version": "3.11.5"
  }
 },
 "nbformat": 4,
 "nbformat_minor": 5
}
