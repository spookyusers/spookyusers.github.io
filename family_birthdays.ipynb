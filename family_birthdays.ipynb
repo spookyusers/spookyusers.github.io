{
 "cells": [
  {
   "cell_type": "code",
   "execution_count": null,
   "id": "fcefdbd5-a4bf-4226-84c7-5187a47d48d8",
   "metadata": {},
   "outputs": [],
   "source": [
    "# Family member birthday database\n",
    "\n",
    "# Birthday entry and lookup program. In progress.\n",
    "\n",
    "\n",
    "birthdayquery = input(\"Who's birthday do you want to know? Use format 'firstnamelastname'.\")\n",
    "\n",
    "print(fam_member_info(birthdayquery))\n",
    "\n",
    "class Family_member:\n",
    "    def __init__(self,name,bday):\n",
    "        self.name = name\n",
    "        self.bday = bday\n",
    "    def fam_member_info(self):\n",
    "        print('Full name:',name)\n",
    "        print('Birthday:',bday)\n",
    "\n",
    "kymderriman = Family_member('Kym Derriman','July 14, 1986')\n",
    "heatherderriman = Family_member('Heather Derriman, nea Kruchinsky','October 23, 1988')\n"
   ]
  }
 ],
 "metadata": {
  "kernelspec": {
   "display_name": "Python 3 (ipykernel)",
   "language": "python",
   "name": "python3"
  },
  "language_info": {
   "codemirror_mode": {
    "name": "ipython",
    "version": 3
   },
   "file_extension": ".py",
   "mimetype": "text/x-python",
   "name": "python",
   "nbconvert_exporter": "python",
   "pygments_lexer": "ipython3",
   "version": "3.11.5"
  }
 },
 "nbformat": 4,
 "nbformat_minor": 5
}
