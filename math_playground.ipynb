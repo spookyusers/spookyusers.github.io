{
 "cells": [
  {
   "cell_type": "code",
   "execution_count": 1,
   "id": "49715e60-5b0b-42f9-8f62-3075a93683e6",
   "metadata": {},
   "outputs": [],
   "source": [
    "# math playground\n",
    "\n",
    "import numpy as np\n",
    "\n",
    "m1 = np.array([1,2])"
   ]
  },
  {
   "cell_type": "code",
   "execution_count": 2,
   "id": "97246b1a-478c-4844-a32d-042eaf7736ce",
   "metadata": {},
   "outputs": [
    {
     "data": {
      "text/plain": [
       "array([1, 2])"
      ]
     },
     "execution_count": 2,
     "metadata": {},
     "output_type": "execute_result"
    }
   ],
   "source": [
    "m1"
   ]
  },
  {
   "cell_type": "code",
   "execution_count": 3,
   "id": "765b5227-d952-43f9-b31f-65a349562346",
   "metadata": {},
   "outputs": [],
   "source": [
    "from sympy import Matrix\n",
    "from sympy.physics.quantum import TensorProduct"
   ]
  },
  {
   "cell_type": "code",
   "execution_count": 5,
   "id": "a0e07642-a30e-4c3f-ac48-0d539f1af4d9",
   "metadata": {},
   "outputs": [
    {
     "data": {
      "text/latex": [
       "$\\displaystyle 0.471404520791032 \\cdot {1}\\otimes {1}$"
      ],
      "text/plain": [
       "0.471404520791032*1x1"
      ]
     },
     "execution_count": 5,
     "metadata": {},
     "output_type": "execute_result"
    }
   ],
   "source": [
    "x = (2/3)**(1/2)\n",
    "y = (1/3)**(1/2)\n",
    "\n",
    "A = Matrix([x,y])\n",
    "B = Matrix([y,x])\n",
    "TensorProduct(x, y)"
   ]
  },
  {
   "cell_type": "code",
   "execution_count": null,
   "id": "f636fe38-cb39-4005-af2b-e18e0a37b9e3",
   "metadata": {},
   "outputs": [],
   "source": []
  }
 ],
 "metadata": {
  "kernelspec": {
   "display_name": "Python 3 (ipykernel)",
   "language": "python",
   "name": "python3"
  },
  "language_info": {
   "codemirror_mode": {
    "name": "ipython",
    "version": 3
   },
   "file_extension": ".py",
   "mimetype": "text/x-python",
   "name": "python",
   "nbconvert_exporter": "python",
   "pygments_lexer": "ipython3",
   "version": "3.11.5"
  }
 },
 "nbformat": 4,
 "nbformat_minor": 5
}
